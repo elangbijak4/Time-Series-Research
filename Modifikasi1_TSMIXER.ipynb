{
  "nbformat": 4,
  "nbformat_minor": 0,
  "metadata": {
    "colab": {
      "provenance": [],
      "authorship_tag": "ABX9TyN2Pd8HtcX0tjdQxUz+r99m",
      "include_colab_link": true
    },
    "kernelspec": {
      "name": "python3",
      "display_name": "Python 3"
    },
    "language_info": {
      "name": "python"
    }
  },
  "cells": [
    {
      "cell_type": "markdown",
      "metadata": {
        "id": "view-in-github",
        "colab_type": "text"
      },
      "source": [
        "<a href=\"https://colab.research.google.com/github/elangbijak4/Time-Series-Research/blob/main/Modifikasi1_TSMIXER.ipynb\" target=\"_parent\"><img src=\"https://colab.research.google.com/assets/colab-badge.svg\" alt=\"Open In Colab\"/></a>"
      ]
    },
    {
      "cell_type": "markdown",
      "source": [
        "Perubahan dari TSMIXER, adalah penambahan mekanisme attention dan lapisan dropout menjadi spatialdroput1D. Pertama untuk mempertajam penyerapan pola, kedua untuk mengurangi mekanisme drop neuron yang berlebihan."
      ],
      "metadata": {
        "id": "cLbTd5QqeK3l"
      }
    },
    {
      "cell_type": "code",
      "execution_count": 1,
      "metadata": {
        "id": "TKqTmAyBd6Zf"
      },
      "outputs": [],
      "source": [
        "import tensorflow as tf\n",
        "from tensorflow.keras import layers\n",
        "\n",
        "def res_block(inputs, norm_type, activation, dropout, ff_dim):\n",
        "    \"\"\"Residual block of Enhanced TSMixer.\"\"\"\n",
        "    norm = (\n",
        "        layers.LayerNormalization\n",
        "        if norm_type == 'L'\n",
        "        else layers.BatchNormalization\n",
        "    )\n",
        "\n",
        "    # Temporal Linear with Attention\n",
        "    x = norm(axis=[-2, -1])(inputs)\n",
        "    x = tf.transpose(x, perm=[0, 2, 1])  # [Batch, Channel, Input Length]\n",
        "    x = layers.MultiHeadAttention(num_heads=4, key_dim=x.shape[-1])(x, x)\n",
        "    x = layers.Dense(x.shape[-1], activation=activation)(x)\n",
        "    x = tf.transpose(x, perm=[0, 2, 1])  # [Batch, Input Length, Channel]\n",
        "    x = layers.SpatialDropout1D(dropout)(x)\n",
        "    res = x + inputs\n",
        "\n",
        "    # Feature Linear\n",
        "    x = norm(axis=[-2, -1])(res)\n",
        "    x = layers.Dense(ff_dim, activation=activation)(\n",
        "        x\n",
        "    )  # [Batch, Input Length, FF_Dim]\n",
        "    x = layers.SpatialDropout1D(dropout)(x)\n",
        "    x = layers.Dense(inputs.shape[-1])(x)  # [Batch, Input Length, Channel]\n",
        "    x = layers.SpatialDropout1D(dropout)(x)\n",
        "    return x + res\n",
        "\n",
        "def build_enhanced_model(input_shape, pred_len, norm_type, activation, n_block, dropout, ff_dim, target_slice):\n",
        "    \"\"\"Build Enhanced TSMixer model.\"\"\"\n",
        "    inputs = tf.keras.Input(shape=input_shape)\n",
        "    x = inputs  # [Batch, Input Length, Channel]\n",
        "    for _ in range(n_block):\n",
        "        x = res_block(x, norm_type, activation, dropout, ff_dim)\n",
        "\n",
        "    if target_slice:\n",
        "        x = x[:, :, target_slice]\n",
        "\n",
        "    x = tf.transpose(x, perm=[0, 2, 1])  # [Batch, Channel, Input Length]\n",
        "    x = layers.Dense(pred_len)(x)  # [Batch, Channel, Output Length]\n",
        "    outputs = tf.transpose(x, perm=[0, 2, 1])  # [Batch, Output Length, Channel])\n",
        "\n",
        "    return tf.keras.Model(inputs, outputs)"
      ]
    }
  ]
}